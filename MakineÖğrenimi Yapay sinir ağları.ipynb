{
 "cells": [
  {
   "cell_type": "code",
   "execution_count": 1,
   "id": "5f2d0940",
   "metadata": {
    "scrolled": true
   },
   "outputs": [],
   "source": [
    "#YAPAY SİNİR AĞLARI"
   ]
  },
  {
   "cell_type": "code",
   "execution_count": 1,
   "id": "6bc1cf0c",
   "metadata": {},
   "outputs": [],
   "source": [
    "import numpy as np\n",
    "import pandas as pd\n",
    "import tensorflow as tf\n",
    "import seaborn as sns \n",
    "import matplotlib.pyplot as plt\n",
    "from sklearn.metrics import roc_curve, auc\n"
   ]
  },
  {
   "cell_type": "code",
   "execution_count": 2,
   "id": "92a8d637",
   "metadata": {},
   "outputs": [],
   "source": [
    "data = pd.read_csv('Heart_Disease_Prediction.csv')"
   ]
  },
  {
   "cell_type": "code",
   "execution_count": null,
   "id": "dec88b13",
   "metadata": {},
   "outputs": [],
   "source": []
  },
  {
   "cell_type": "code",
   "execution_count": 3,
   "id": "2931b10d",
   "metadata": {},
   "outputs": [],
   "source": [
    "from tensorflow.keras.models import Sequential #Helps to create Forward and backward propogation\n",
    "from tensorflow.keras.layers import Dense #Helps to create neurons in ANN\n",
    "from tensorflow.keras.layers import LeakyReLU,PReLU,ELU #activation functions"
   ]
  },
  {
   "cell_type": "code",
   "execution_count": 4,
   "id": "964e17e3",
   "metadata": {},
   "outputs": [],
   "source": [
    "classifier=Sequential()"
   ]
  },
  {
   "cell_type": "code",
   "execution_count": 5,
   "id": "d4eee743",
   "metadata": {},
   "outputs": [],
   "source": [
    "classifier.add(Dense(units=11,activation='relu'))"
   ]
  },
  {
   "cell_type": "code",
   "execution_count": 6,
   "id": "0cb0fd67",
   "metadata": {},
   "outputs": [],
   "source": [
    "classifier.add(Dense(units=7,activation='relu'))"
   ]
  },
  {
   "cell_type": "code",
   "execution_count": 7,
   "id": "3baa8aed",
   "metadata": {},
   "outputs": [],
   "source": [
    "classifier.add(Dense(units=6,activation='relu'))"
   ]
  },
  {
   "cell_type": "code",
   "execution_count": 8,
   "id": "0a8759cd",
   "metadata": {},
   "outputs": [],
   "source": [
    "classifier.add(Dense(units=1,activation='sigmoid'))"
   ]
  },
  {
   "cell_type": "code",
   "execution_count": 9,
   "id": "2ac3b5ad",
   "metadata": {},
   "outputs": [],
   "source": [
    "classifier.compile(optimizer='adam',loss=\"binary_crossentropy\",metrics=[\"accuracy\"])"
   ]
  },
  {
   "cell_type": "code",
   "execution_count": 10,
   "id": "6ed6b85e",
   "metadata": {},
   "outputs": [],
   "source": [
    "import tensorflow as tf\n",
    "early_stopping=tf.keras.callbacks.EarlyStopping(\n",
    "    monitor=\"val_loss\",\n",
    "    min_delta=0.0001,\n",
    "    patience=20,\n",
    "    verbose=1,\n",
    "    mode=\"auto\",\n",
    "    baseline=None,\n",
    "    restore_best_weights=False,\n",
    ")"
   ]
  },
  {
   "cell_type": "code",
   "execution_count": 11,
   "id": "f8387729",
   "metadata": {},
   "outputs": [],
   "source": [
    "X=data.iloc[:,1:14]\n",
    "X\n",
    "y=data['Heart_Disease']"
   ]
  },
  {
   "cell_type": "code",
   "execution_count": 12,
   "id": "92840e76",
   "metadata": {},
   "outputs": [],
   "source": [
    "# Import label encoder\n",
    "from sklearn import preprocessing\n",
    "  \n",
    "# label_encoder object knows how to understand word labels.\n",
    "label_encoder = preprocessing.LabelEncoder()\n",
    "\n",
    "y= label_encoder.fit_transform(y)"
   ]
  },
  {
   "cell_type": "code",
   "execution_count": 13,
   "id": "b87cd009",
   "metadata": {},
   "outputs": [
    {
     "data": {
      "text/plain": [
       "array([1, 0, 1, 0, 0, 0, 1, 1, 1, 1, 0, 0, 0, 1, 0, 0, 1, 1, 0, 0, 1, 0,\n",
       "       0, 0, 0, 0, 0, 0, 1, 0, 1, 0, 0, 1, 1, 1, 1, 1, 0, 0, 1, 0, 0, 0,\n",
       "       1, 0, 1, 1, 1, 1, 1, 0, 0, 0, 0, 0, 1, 0, 1, 1, 0, 1, 0, 0, 0, 1,\n",
       "       0, 1, 0, 1, 1, 0, 0, 0, 0, 1, 0, 0, 0, 0, 1, 1, 1, 0, 0, 0, 0, 0,\n",
       "       0, 1, 0, 1, 1, 1, 1, 1, 0, 1, 0, 0, 0, 1, 0, 1, 1, 1, 0, 1, 1, 0,\n",
       "       1, 0, 1, 0, 0, 0, 1, 1, 0, 1, 1, 1, 1, 0, 0, 0, 1, 0, 0, 1, 1, 1,\n",
       "       0, 1, 0, 0, 0, 1, 0, 0, 1, 0, 1, 0, 1, 1, 1, 1, 1, 0, 0, 0, 0, 0,\n",
       "       0, 0, 1, 0, 0, 1, 1, 1, 0, 1, 0, 0, 0, 0, 0, 1, 0, 1, 1, 0, 0, 1,\n",
       "       1, 1, 1, 0, 0, 1, 1, 0, 0, 0, 1, 0, 0, 1, 0, 1, 0, 1, 0, 0, 0, 0,\n",
       "       0, 1, 0, 1, 1, 1, 1, 0, 0, 0, 1, 0, 1, 0, 0, 1, 0, 0, 0, 0, 0, 0,\n",
       "       1, 1, 0, 1, 0, 0, 1, 1, 0, 0, 1, 1, 0, 1, 0, 1, 0, 1, 0, 0, 1, 0,\n",
       "       0, 1, 0, 1, 1, 0, 1, 1, 1, 0, 1, 0, 0, 0, 0, 1, 1, 0, 0, 1, 1, 0,\n",
       "       1, 0, 0, 0, 0, 1])"
      ]
     },
     "execution_count": 13,
     "metadata": {},
     "output_type": "execute_result"
    }
   ],
   "source": [
    "y"
   ]
  },
  {
   "cell_type": "code",
   "execution_count": 14,
   "id": "5d99d5ef",
   "metadata": {},
   "outputs": [],
   "source": [
    "from sklearn.model_selection import train_test_split\n",
    "X_train, X_test, y_train, y_test = train_test_split(X, y, test_size=0.33, random_state=42)"
   ]
  },
  {
   "cell_type": "code",
   "execution_count": 15,
   "id": "358d5af3",
   "metadata": {},
   "outputs": [
    {
     "name": "stdout",
     "output_type": "stream",
     "text": [
      "Epoch 1/1000\n",
      "12/12 [==============================] - 2s 57ms/step - loss: 0.8470 - accuracy: 0.6000 - val_loss: 1.0453 - val_accuracy: 0.5500\n",
      "Epoch 2/1000\n",
      "12/12 [==============================] - 0s 10ms/step - loss: 0.8575 - accuracy: 0.6417 - val_loss: 0.8153 - val_accuracy: 0.6167\n",
      "Epoch 3/1000\n",
      "12/12 [==============================] - 0s 10ms/step - loss: 0.7333 - accuracy: 0.6167 - val_loss: 0.7968 - val_accuracy: 0.5333\n",
      "Epoch 4/1000\n",
      "12/12 [==============================] - 0s 10ms/step - loss: 0.7056 - accuracy: 0.6417 - val_loss: 0.7732 - val_accuracy: 0.6167\n",
      "Epoch 5/1000\n",
      "12/12 [==============================] - 0s 10ms/step - loss: 0.7068 - accuracy: 0.6667 - val_loss: 0.7605 - val_accuracy: 0.5667\n",
      "Epoch 6/1000\n",
      "12/12 [==============================] - 0s 10ms/step - loss: 0.6976 - accuracy: 0.6500 - val_loss: 0.7451 - val_accuracy: 0.5833\n",
      "Epoch 7/1000\n",
      "12/12 [==============================] - 0s 10ms/step - loss: 0.7028 - accuracy: 0.6667 - val_loss: 0.7357 - val_accuracy: 0.6000\n",
      "Epoch 8/1000\n",
      "12/12 [==============================] - 0s 10ms/step - loss: 0.7083 - accuracy: 0.6500 - val_loss: 0.7241 - val_accuracy: 0.5667\n",
      "Epoch 9/1000\n",
      "12/12 [==============================] - 0s 9ms/step - loss: 0.6980 - accuracy: 0.6417 - val_loss: 0.7239 - val_accuracy: 0.5667\n",
      "Epoch 10/1000\n",
      "12/12 [==============================] - 0s 9ms/step - loss: 0.6544 - accuracy: 0.6833 - val_loss: 0.7095 - val_accuracy: 0.6167\n",
      "Epoch 11/1000\n",
      "12/12 [==============================] - 0s 10ms/step - loss: 0.6632 - accuracy: 0.6833 - val_loss: 0.7318 - val_accuracy: 0.5500\n",
      "Epoch 12/1000\n",
      "12/12 [==============================] - 0s 9ms/step - loss: 0.6724 - accuracy: 0.6417 - val_loss: 0.7125 - val_accuracy: 0.6000\n",
      "Epoch 13/1000\n",
      "12/12 [==============================] - 0s 10ms/step - loss: 0.6430 - accuracy: 0.6583 - val_loss: 0.6967 - val_accuracy: 0.6333\n",
      "Epoch 14/1000\n",
      "12/12 [==============================] - 0s 11ms/step - loss: 0.6464 - accuracy: 0.6917 - val_loss: 0.6867 - val_accuracy: 0.5833\n",
      "Epoch 15/1000\n",
      "12/12 [==============================] - 0s 10ms/step - loss: 0.6262 - accuracy: 0.7000 - val_loss: 0.6734 - val_accuracy: 0.6500\n",
      "Epoch 16/1000\n",
      "12/12 [==============================] - 0s 17ms/step - loss: 0.6399 - accuracy: 0.6417 - val_loss: 0.6720 - val_accuracy: 0.6167\n",
      "Epoch 17/1000\n",
      "12/12 [==============================] - 0s 12ms/step - loss: 0.6672 - accuracy: 0.6750 - val_loss: 0.6975 - val_accuracy: 0.5833\n",
      "Epoch 18/1000\n",
      "12/12 [==============================] - 0s 13ms/step - loss: 0.6384 - accuracy: 0.6833 - val_loss: 0.6544 - val_accuracy: 0.6333\n",
      "Epoch 19/1000\n",
      "12/12 [==============================] - 0s 11ms/step - loss: 0.6035 - accuracy: 0.7083 - val_loss: 0.6496 - val_accuracy: 0.7000\n",
      "Epoch 20/1000\n",
      "12/12 [==============================] - 0s 11ms/step - loss: 0.6107 - accuracy: 0.7167 - val_loss: 0.6586 - val_accuracy: 0.6167\n",
      "Epoch 21/1000\n",
      "12/12 [==============================] - 0s 12ms/step - loss: 0.5998 - accuracy: 0.7000 - val_loss: 0.6296 - val_accuracy: 0.6500\n",
      "Epoch 22/1000\n",
      "12/12 [==============================] - 0s 10ms/step - loss: 0.5895 - accuracy: 0.7000 - val_loss: 0.6237 - val_accuracy: 0.6667\n",
      "Epoch 23/1000\n",
      "12/12 [==============================] - 0s 11ms/step - loss: 0.6043 - accuracy: 0.7083 - val_loss: 0.6157 - val_accuracy: 0.6333\n",
      "Epoch 24/1000\n",
      "12/12 [==============================] - 0s 10ms/step - loss: 0.5740 - accuracy: 0.7333 - val_loss: 0.6068 - val_accuracy: 0.6833\n",
      "Epoch 25/1000\n",
      "12/12 [==============================] - 0s 10ms/step - loss: 0.5692 - accuracy: 0.7333 - val_loss: 0.6020 - val_accuracy: 0.6500\n",
      "Epoch 26/1000\n",
      "12/12 [==============================] - 0s 15ms/step - loss: 0.5636 - accuracy: 0.7583 - val_loss: 0.6234 - val_accuracy: 0.7000\n",
      "Epoch 27/1000\n",
      "12/12 [==============================] - 0s 10ms/step - loss: 0.5797 - accuracy: 0.7417 - val_loss: 0.5933 - val_accuracy: 0.6500\n",
      "Epoch 28/1000\n",
      "12/12 [==============================] - 0s 11ms/step - loss: 0.6201 - accuracy: 0.6667 - val_loss: 0.6470 - val_accuracy: 0.7000\n",
      "Epoch 29/1000\n",
      "12/12 [==============================] - 0s 11ms/step - loss: 0.5786 - accuracy: 0.6917 - val_loss: 0.6396 - val_accuracy: 0.6333\n",
      "Epoch 30/1000\n",
      "12/12 [==============================] - 0s 10ms/step - loss: 0.5843 - accuracy: 0.7333 - val_loss: 0.6124 - val_accuracy: 0.6833\n",
      "Epoch 31/1000\n",
      "12/12 [==============================] - 0s 10ms/step - loss: 0.5898 - accuracy: 0.7167 - val_loss: 0.5816 - val_accuracy: 0.7000\n",
      "Epoch 32/1000\n",
      "12/12 [==============================] - 0s 10ms/step - loss: 0.5346 - accuracy: 0.7583 - val_loss: 0.5751 - val_accuracy: 0.6833\n",
      "Epoch 33/1000\n",
      "12/12 [==============================] - 0s 10ms/step - loss: 0.5400 - accuracy: 0.7750 - val_loss: 0.5692 - val_accuracy: 0.6833\n",
      "Epoch 34/1000\n",
      "12/12 [==============================] - 0s 11ms/step - loss: 0.5272 - accuracy: 0.7417 - val_loss: 0.5716 - val_accuracy: 0.7167\n",
      "Epoch 35/1000\n",
      "12/12 [==============================] - 0s 11ms/step - loss: 0.5555 - accuracy: 0.7417 - val_loss: 0.6130 - val_accuracy: 0.7000\n",
      "Epoch 36/1000\n",
      "12/12 [==============================] - 0s 12ms/step - loss: 0.5464 - accuracy: 0.7500 - val_loss: 0.5880 - val_accuracy: 0.7000\n",
      "Epoch 37/1000\n",
      "12/12 [==============================] - 0s 11ms/step - loss: 0.5350 - accuracy: 0.7500 - val_loss: 0.5526 - val_accuracy: 0.7167\n",
      "Epoch 38/1000\n",
      "12/12 [==============================] - 0s 11ms/step - loss: 0.5186 - accuracy: 0.7667 - val_loss: 0.5452 - val_accuracy: 0.7167\n",
      "Epoch 39/1000\n",
      "12/12 [==============================] - 0s 11ms/step - loss: 0.5180 - accuracy: 0.7667 - val_loss: 0.5432 - val_accuracy: 0.7333\n",
      "Epoch 40/1000\n",
      "12/12 [==============================] - 0s 11ms/step - loss: 0.5147 - accuracy: 0.7750 - val_loss: 0.5357 - val_accuracy: 0.7167\n",
      "Epoch 41/1000\n",
      "12/12 [==============================] - 0s 16ms/step - loss: 0.5087 - accuracy: 0.7917 - val_loss: 0.5318 - val_accuracy: 0.7167\n",
      "Epoch 42/1000\n",
      "12/12 [==============================] - 0s 10ms/step - loss: 0.5039 - accuracy: 0.7833 - val_loss: 0.5305 - val_accuracy: 0.7333\n",
      "Epoch 43/1000\n",
      "12/12 [==============================] - 0s 11ms/step - loss: 0.5015 - accuracy: 0.7917 - val_loss: 0.5300 - val_accuracy: 0.7333\n",
      "Epoch 44/1000\n",
      "12/12 [==============================] - 0s 11ms/step - loss: 0.4986 - accuracy: 0.7583 - val_loss: 0.5602 - val_accuracy: 0.7167\n",
      "Epoch 45/1000\n",
      "12/12 [==============================] - 0s 11ms/step - loss: 0.5183 - accuracy: 0.7917 - val_loss: 0.5335 - val_accuracy: 0.7500\n",
      "Epoch 46/1000\n",
      "12/12 [==============================] - 0s 10ms/step - loss: 0.5102 - accuracy: 0.8000 - val_loss: 0.5265 - val_accuracy: 0.7500\n",
      "Epoch 47/1000\n",
      "12/12 [==============================] - 0s 10ms/step - loss: 0.5030 - accuracy: 0.7583 - val_loss: 0.5215 - val_accuracy: 0.7500\n",
      "Epoch 48/1000\n",
      "12/12 [==============================] - 0s 14ms/step - loss: 0.5149 - accuracy: 0.7667 - val_loss: 0.5625 - val_accuracy: 0.7167\n",
      "Epoch 49/1000\n",
      "12/12 [==============================] - 0s 11ms/step - loss: 0.5157 - accuracy: 0.7417 - val_loss: 0.5305 - val_accuracy: 0.7167\n",
      "Epoch 50/1000\n",
      "12/12 [==============================] - 0s 12ms/step - loss: 0.4795 - accuracy: 0.7917 - val_loss: 0.5214 - val_accuracy: 0.7667\n",
      "Epoch 51/1000\n",
      "12/12 [==============================] - 0s 13ms/step - loss: 0.4951 - accuracy: 0.7750 - val_loss: 0.5163 - val_accuracy: 0.7667\n",
      "Epoch 52/1000\n",
      "12/12 [==============================] - 0s 13ms/step - loss: 0.4838 - accuracy: 0.7750 - val_loss: 0.5086 - val_accuracy: 0.7500\n",
      "Epoch 53/1000\n",
      "12/12 [==============================] - 0s 11ms/step - loss: 0.4930 - accuracy: 0.7583 - val_loss: 0.5156 - val_accuracy: 0.7333\n",
      "Epoch 54/1000\n",
      "12/12 [==============================] - 0s 11ms/step - loss: 0.4943 - accuracy: 0.7500 - val_loss: 0.5054 - val_accuracy: 0.7667\n",
      "Epoch 55/1000\n",
      "12/12 [==============================] - 0s 10ms/step - loss: 0.4821 - accuracy: 0.7583 - val_loss: 0.5041 - val_accuracy: 0.7667\n",
      "Epoch 56/1000\n",
      "12/12 [==============================] - 0s 10ms/step - loss: 0.4761 - accuracy: 0.7667 - val_loss: 0.4999 - val_accuracy: 0.7667\n",
      "Epoch 57/1000\n",
      "12/12 [==============================] - 0s 10ms/step - loss: 0.4786 - accuracy: 0.7833 - val_loss: 0.5095 - val_accuracy: 0.7667\n",
      "Epoch 58/1000\n",
      "12/12 [==============================] - 0s 10ms/step - loss: 0.4611 - accuracy: 0.8000 - val_loss: 0.5075 - val_accuracy: 0.7500\n",
      "Epoch 59/1000\n",
      "12/12 [==============================] - 0s 10ms/step - loss: 0.4795 - accuracy: 0.7750 - val_loss: 0.5003 - val_accuracy: 0.7667\n",
      "Epoch 60/1000\n",
      "12/12 [==============================] - 0s 10ms/step - loss: 0.5050 - accuracy: 0.7833 - val_loss: 0.5315 - val_accuracy: 0.7167\n",
      "Epoch 61/1000\n",
      "12/12 [==============================] - 0s 10ms/step - loss: 0.4907 - accuracy: 0.7583 - val_loss: 0.4905 - val_accuracy: 0.7833\n",
      "Epoch 62/1000\n",
      "12/12 [==============================] - 0s 10ms/step - loss: 0.4776 - accuracy: 0.7917 - val_loss: 0.5095 - val_accuracy: 0.7667\n",
      "Epoch 63/1000\n",
      "12/12 [==============================] - 0s 10ms/step - loss: 0.4574 - accuracy: 0.8083 - val_loss: 0.4867 - val_accuracy: 0.7833\n",
      "Epoch 64/1000\n",
      "12/12 [==============================] - 0s 10ms/step - loss: 0.4640 - accuracy: 0.7917 - val_loss: 0.5107 - val_accuracy: 0.7667\n",
      "Epoch 65/1000\n",
      "12/12 [==============================] - 0s 10ms/step - loss: 0.4572 - accuracy: 0.8083 - val_loss: 0.4951 - val_accuracy: 0.7667\n",
      "Epoch 66/1000\n",
      "12/12 [==============================] - 0s 13ms/step - loss: 0.4573 - accuracy: 0.7833 - val_loss: 0.5079 - val_accuracy: 0.7667\n",
      "Epoch 67/1000\n",
      "12/12 [==============================] - 0s 12ms/step - loss: 0.4572 - accuracy: 0.7833 - val_loss: 0.4902 - val_accuracy: 0.7667\n",
      "Epoch 68/1000\n",
      "12/12 [==============================] - 0s 11ms/step - loss: 0.4415 - accuracy: 0.7833 - val_loss: 0.5040 - val_accuracy: 0.7667\n",
      "Epoch 69/1000\n",
      "12/12 [==============================] - 0s 11ms/step - loss: 0.4647 - accuracy: 0.7583 - val_loss: 0.4914 - val_accuracy: 0.7667\n",
      "Epoch 70/1000\n",
      "12/12 [==============================] - 0s 10ms/step - loss: 0.4724 - accuracy: 0.7917 - val_loss: 0.4939 - val_accuracy: 0.7500\n",
      "Epoch 71/1000\n",
      "12/12 [==============================] - 0s 14ms/step - loss: 0.4770 - accuracy: 0.7750 - val_loss: 0.5314 - val_accuracy: 0.7833\n",
      "Epoch 72/1000\n",
      "12/12 [==============================] - 0s 10ms/step - loss: 0.4705 - accuracy: 0.7667 - val_loss: 0.5158 - val_accuracy: 0.7333\n",
      "Epoch 73/1000\n",
      "12/12 [==============================] - 0s 10ms/step - loss: 0.4746 - accuracy: 0.7917 - val_loss: 0.4786 - val_accuracy: 0.7833\n",
      "Epoch 74/1000\n",
      "12/12 [==============================] - 0s 10ms/step - loss: 0.4604 - accuracy: 0.7750 - val_loss: 0.5016 - val_accuracy: 0.7667\n",
      "Epoch 75/1000\n",
      "12/12 [==============================] - 0s 10ms/step - loss: 0.4657 - accuracy: 0.7833 - val_loss: 0.4827 - val_accuracy: 0.7667\n",
      "Epoch 76/1000\n",
      "12/12 [==============================] - 0s 10ms/step - loss: 0.4332 - accuracy: 0.8000 - val_loss: 0.4703 - val_accuracy: 0.7833\n",
      "Epoch 77/1000\n",
      "12/12 [==============================] - 0s 10ms/step - loss: 0.4384 - accuracy: 0.8000 - val_loss: 0.4686 - val_accuracy: 0.7833\n",
      "Epoch 78/1000\n",
      "12/12 [==============================] - 0s 9ms/step - loss: 0.4360 - accuracy: 0.8083 - val_loss: 0.4722 - val_accuracy: 0.8000\n",
      "Epoch 79/1000\n",
      "12/12 [==============================] - 0s 15ms/step - loss: 0.4418 - accuracy: 0.8167 - val_loss: 0.4861 - val_accuracy: 0.7667\n",
      "Epoch 80/1000\n",
      "12/12 [==============================] - 0s 15ms/step - loss: 0.4849 - accuracy: 0.8000 - val_loss: 0.4836 - val_accuracy: 0.7500\n",
      "Epoch 81/1000\n",
      "12/12 [==============================] - 0s 12ms/step - loss: 0.4595 - accuracy: 0.7917 - val_loss: 0.4666 - val_accuracy: 0.7667\n",
      "Epoch 82/1000\n",
      "12/12 [==============================] - 0s 11ms/step - loss: 0.4210 - accuracy: 0.8000 - val_loss: 0.4609 - val_accuracy: 0.8167\n",
      "Epoch 83/1000\n",
      "12/12 [==============================] - 0s 11ms/step - loss: 0.4288 - accuracy: 0.8000 - val_loss: 0.4691 - val_accuracy: 0.8000\n",
      "Epoch 84/1000\n",
      "12/12 [==============================] - 0s 12ms/step - loss: 0.4385 - accuracy: 0.7917 - val_loss: 0.4732 - val_accuracy: 0.7667\n",
      "Epoch 85/1000\n",
      "12/12 [==============================] - 0s 12ms/step - loss: 0.4239 - accuracy: 0.8333 - val_loss: 0.4614 - val_accuracy: 0.8167\n",
      "Epoch 86/1000\n",
      "12/12 [==============================] - 0s 11ms/step - loss: 0.4365 - accuracy: 0.8167 - val_loss: 0.4649 - val_accuracy: 0.8000\n",
      "Epoch 87/1000\n",
      "12/12 [==============================] - 0s 10ms/step - loss: 0.4203 - accuracy: 0.8250 - val_loss: 0.4629 - val_accuracy: 0.8000\n",
      "Epoch 88/1000\n",
      "12/12 [==============================] - 0s 11ms/step - loss: 0.4320 - accuracy: 0.8083 - val_loss: 0.4757 - val_accuracy: 0.7667\n",
      "Epoch 89/1000\n",
      "12/12 [==============================] - 0s 10ms/step - loss: 0.4938 - accuracy: 0.7583 - val_loss: 0.4676 - val_accuracy: 0.7833\n",
      "Epoch 90/1000\n",
      "12/12 [==============================] - 0s 11ms/step - loss: 0.4444 - accuracy: 0.7917 - val_loss: 0.5408 - val_accuracy: 0.7833\n",
      "Epoch 91/1000\n",
      "12/12 [==============================] - 0s 10ms/step - loss: 0.4335 - accuracy: 0.7917 - val_loss: 0.4992 - val_accuracy: 0.7667\n",
      "Epoch 92/1000\n",
      "12/12 [==============================] - 0s 10ms/step - loss: 0.4554 - accuracy: 0.8083 - val_loss: 0.4503 - val_accuracy: 0.8000\n",
      "Epoch 93/1000\n",
      "12/12 [==============================] - 0s 10ms/step - loss: 0.4185 - accuracy: 0.8167 - val_loss: 0.5132 - val_accuracy: 0.7833\n",
      "Epoch 94/1000\n",
      "12/12 [==============================] - 0s 15ms/step - loss: 0.4413 - accuracy: 0.7833 - val_loss: 0.4603 - val_accuracy: 0.7667\n",
      "Epoch 95/1000\n",
      "12/12 [==============================] - 0s 12ms/step - loss: 0.4138 - accuracy: 0.8250 - val_loss: 0.4851 - val_accuracy: 0.7833\n",
      "Epoch 96/1000\n",
      "12/12 [==============================] - 0s 10ms/step - loss: 0.4231 - accuracy: 0.8417 - val_loss: 0.4391 - val_accuracy: 0.8167\n",
      "Epoch 97/1000\n",
      "12/12 [==============================] - 0s 10ms/step - loss: 0.4195 - accuracy: 0.8333 - val_loss: 0.4425 - val_accuracy: 0.7667\n",
      "Epoch 98/1000\n",
      "12/12 [==============================] - 0s 10ms/step - loss: 0.4120 - accuracy: 0.8333 - val_loss: 0.4588 - val_accuracy: 0.7833\n",
      "Epoch 99/1000\n",
      "12/12 [==============================] - 0s 9ms/step - loss: 0.4202 - accuracy: 0.8083 - val_loss: 0.4637 - val_accuracy: 0.7833\n",
      "Epoch 100/1000\n",
      "12/12 [==============================] - 0s 9ms/step - loss: 0.4102 - accuracy: 0.8167 - val_loss: 0.4651 - val_accuracy: 0.8000\n",
      "Epoch 101/1000\n",
      "12/12 [==============================] - 0s 10ms/step - loss: 0.4554 - accuracy: 0.8167 - val_loss: 0.4711 - val_accuracy: 0.8000\n",
      "Epoch 102/1000\n",
      "12/12 [==============================] - 0s 12ms/step - loss: 0.3987 - accuracy: 0.8250 - val_loss: 0.4740 - val_accuracy: 0.8000\n",
      "Epoch 103/1000\n",
      "12/12 [==============================] - 0s 15ms/step - loss: 0.4226 - accuracy: 0.8167 - val_loss: 0.4445 - val_accuracy: 0.8000\n",
      "Epoch 104/1000\n",
      "12/12 [==============================] - 0s 19ms/step - loss: 0.4019 - accuracy: 0.8167 - val_loss: 0.4521 - val_accuracy: 0.8000\n",
      "Epoch 105/1000\n",
      "12/12 [==============================] - 0s 8ms/step - loss: 0.4357 - accuracy: 0.8000 - val_loss: 0.5165 - val_accuracy: 0.7833\n",
      "Epoch 106/1000\n",
      "12/12 [==============================] - 0s 8ms/step - loss: 0.4107 - accuracy: 0.8083 - val_loss: 0.4703 - val_accuracy: 0.8167\n",
      "Epoch 107/1000\n",
      "12/12 [==============================] - 0s 8ms/step - loss: 0.4088 - accuracy: 0.8250 - val_loss: 0.4604 - val_accuracy: 0.8000\n",
      "Epoch 108/1000\n",
      "12/12 [==============================] - 0s 9ms/step - loss: 0.4055 - accuracy: 0.8333 - val_loss: 0.4423 - val_accuracy: 0.8000\n",
      "Epoch 109/1000\n",
      "12/12 [==============================] - 0s 9ms/step - loss: 0.4060 - accuracy: 0.8167 - val_loss: 0.4472 - val_accuracy: 0.7667\n",
      "Epoch 110/1000\n",
      "12/12 [==============================] - 0s 12ms/step - loss: 0.4017 - accuracy: 0.8333 - val_loss: 0.4439 - val_accuracy: 0.7833\n",
      "Epoch 111/1000\n",
      "12/12 [==============================] - 0s 10ms/step - loss: 0.3891 - accuracy: 0.8500 - val_loss: 0.4428 - val_accuracy: 0.8000\n",
      "Epoch 112/1000\n",
      "12/12 [==============================] - 0s 9ms/step - loss: 0.4249 - accuracy: 0.7750 - val_loss: 0.4338 - val_accuracy: 0.8167\n",
      "Epoch 113/1000\n",
      "12/12 [==============================] - 0s 10ms/step - loss: 0.4029 - accuracy: 0.8417 - val_loss: 0.4330 - val_accuracy: 0.7833\n",
      "Epoch 114/1000\n",
      "12/12 [==============================] - 0s 10ms/step - loss: 0.3914 - accuracy: 0.8333 - val_loss: 0.4796 - val_accuracy: 0.8000\n",
      "Epoch 115/1000\n",
      "12/12 [==============================] - 0s 10ms/step - loss: 0.4017 - accuracy: 0.8250 - val_loss: 0.4450 - val_accuracy: 0.8000\n",
      "Epoch 116/1000\n",
      "12/12 [==============================] - 0s 10ms/step - loss: 0.3950 - accuracy: 0.8500 - val_loss: 0.4538 - val_accuracy: 0.8000\n",
      "Epoch 117/1000\n",
      "12/12 [==============================] - 0s 10ms/step - loss: 0.3939 - accuracy: 0.8083 - val_loss: 0.4377 - val_accuracy: 0.8000\n",
      "Epoch 118/1000\n",
      "12/12 [==============================] - 0s 9ms/step - loss: 0.3916 - accuracy: 0.8750 - val_loss: 0.4388 - val_accuracy: 0.8000\n",
      "Epoch 119/1000\n",
      "12/12 [==============================] - 0s 9ms/step - loss: 0.3937 - accuracy: 0.8250 - val_loss: 0.4630 - val_accuracy: 0.8000\n",
      "Epoch 120/1000\n",
      "12/12 [==============================] - 0s 10ms/step - loss: 0.4237 - accuracy: 0.8000 - val_loss: 0.4917 - val_accuracy: 0.8000\n",
      "Epoch 121/1000\n",
      "12/12 [==============================] - 0s 10ms/step - loss: 0.4331 - accuracy: 0.7750 - val_loss: 0.5347 - val_accuracy: 0.7333\n",
      "Epoch 122/1000\n",
      "12/12 [==============================] - 0s 10ms/step - loss: 0.4342 - accuracy: 0.8250 - val_loss: 0.4457 - val_accuracy: 0.8000\n",
      "Epoch 123/1000\n",
      "12/12 [==============================] - 0s 10ms/step - loss: 0.3905 - accuracy: 0.8667 - val_loss: 0.4683 - val_accuracy: 0.8000\n",
      "Epoch 124/1000\n",
      "12/12 [==============================] - 0s 10ms/step - loss: 0.3893 - accuracy: 0.8167 - val_loss: 0.4428 - val_accuracy: 0.8167\n",
      "Epoch 125/1000\n",
      "12/12 [==============================] - 0s 9ms/step - loss: 0.3942 - accuracy: 0.8333 - val_loss: 0.4719 - val_accuracy: 0.8000\n",
      "Epoch 126/1000\n",
      "12/12 [==============================] - 0s 9ms/step - loss: 0.4006 - accuracy: 0.8333 - val_loss: 0.4627 - val_accuracy: 0.8000\n",
      "Epoch 127/1000\n",
      "12/12 [==============================] - 0s 10ms/step - loss: 0.3754 - accuracy: 0.8500 - val_loss: 0.4482 - val_accuracy: 0.8000\n",
      "Epoch 128/1000\n",
      "12/12 [==============================] - 0s 10ms/step - loss: 0.4055 - accuracy: 0.8333 - val_loss: 0.5150 - val_accuracy: 0.7833\n",
      "Epoch 129/1000\n",
      "12/12 [==============================] - 0s 9ms/step - loss: 0.3836 - accuracy: 0.8333 - val_loss: 0.4377 - val_accuracy: 0.8167\n",
      "Epoch 130/1000\n",
      "12/12 [==============================] - 0s 9ms/step - loss: 0.3870 - accuracy: 0.8333 - val_loss: 0.5046 - val_accuracy: 0.8000\n",
      "Epoch 131/1000\n",
      "12/12 [==============================] - 0s 9ms/step - loss: 0.4162 - accuracy: 0.7833 - val_loss: 0.4356 - val_accuracy: 0.8167\n",
      "Epoch 132/1000\n",
      "12/12 [==============================] - 0s 10ms/step - loss: 0.4017 - accuracy: 0.8417 - val_loss: 0.4454 - val_accuracy: 0.8000\n",
      "Epoch 133/1000\n",
      "12/12 [==============================] - 0s 10ms/step - loss: 0.3928 - accuracy: 0.8417 - val_loss: 0.4330 - val_accuracy: 0.8000\n",
      "Epoch 133: early stopping\n"
     ]
    }
   ],
   "source": [
    "model_history=classifier.fit(X_train,y_train,validation_split=0.33,batch_size=10,epochs=1000,callbacks=early_stopping)"
   ]
  },
  {
   "cell_type": "code",
   "execution_count": 16,
   "id": "15d90581",
   "metadata": {},
   "outputs": [
    {
     "name": "stdout",
     "output_type": "stream",
     "text": [
      "3/3 [==============================] - 0s 4ms/step\n"
     ]
    }
   ],
   "source": [
    "y_pred = classifier.predict(X_test)\n",
    "y_pred = (y_pred > 0.5)"
   ]
  },
  {
   "cell_type": "code",
   "execution_count": 17,
   "id": "d3f25259",
   "metadata": {},
   "outputs": [],
   "source": [
    "# Calculate the Accuracy\n",
    "from sklearn.metrics import accuracy_score\n",
    "score=accuracy_score(y_pred,y_test)"
   ]
  },
  {
   "cell_type": "code",
   "execution_count": 18,
   "id": "8e49e58d",
   "metadata": {},
   "outputs": [
    {
     "data": {
      "text/plain": [
       "0.8555555555555555"
      ]
     },
     "execution_count": 18,
     "metadata": {},
     "output_type": "execute_result"
    }
   ],
   "source": [
    "score"
   ]
  },
  {
   "cell_type": "code",
   "execution_count": 19,
   "id": "403aaf35",
   "metadata": {},
   "outputs": [
    {
     "name": "stdout",
     "output_type": "stream",
     "text": [
      "Confusion matrix\n",
      "\n",
      " [[51  3]\n",
      " [10 26]]\n",
      "\n",
      "True Positives(TP) =  51\n",
      "\n",
      "True Negatives(TN) =  26\n",
      "\n",
      "False Positives(FP) =  3\n",
      "\n",
      "False Negatives(FN) =  10\n"
     ]
    }
   ],
   "source": [
    "from sklearn.metrics import confusion_matrix\n",
    "\n",
    "cm = confusion_matrix(y_test, y_pred) #karmaşıklık matrisi\n",
    "\n",
    "print('Confusion matrix\\n\\n', cm)\n",
    "\n",
    "print('\\nTrue Positives(TP) = ', cm[0,0])\n",
    "\n",
    "print('\\nTrue Negatives(TN) = ', cm[1,1])\n",
    "\n",
    "print('\\nFalse Positives(FP) = ', cm[0,1])\n",
    "\n",
    "print('\\nFalse Negatives(FN) = ', cm[1,0])"
   ]
  },
  {
   "cell_type": "code",
   "execution_count": 20,
   "id": "f7348d66-01d6-4036-954f-8d63cb9ad4b3",
   "metadata": {},
   "outputs": [
    {
     "data": {
      "text/plain": [
       "<Axes: >"
      ]
     },
     "execution_count": 20,
     "metadata": {},
     "output_type": "execute_result"
    },
    {
     "data": {
      "image/png": "[encoded data removed]",
      "text/plain": [
       "<Figure size 640x480 with 2 Axes>"
      ]
     },
     "metadata": {},
     "output_type": "display_data"
    }
   ],
   "source": [
    "m_matrix= pd.DataFrame(data=cm,columns=['Actual Positive:1', 'Actual Negative:0'],index=['Predict Positive:1', 'Predict Negative:0'])\n",
    "\n",
    "sns.heatmap(cm, annot=True, fmt='d', cmap='YlGnBu')"
   ]
  },
  {
   "cell_type": "code",
   "execution_count": 21,
   "id": "b3548d3e-5107-41ad-9c0a-9a6c5a24c74b",
   "metadata": {},
   "outputs": [
    {
     "name": "stdout",
     "output_type": "stream",
     "text": [
      "              precision    recall  f1-score   support\n",
      "\n",
      "           0       0.84      0.94      0.89        54\n",
      "           1       0.90      0.72      0.80        36\n",
      "\n",
      "    accuracy                           0.86        90\n",
      "   macro avg       0.87      0.83      0.84        90\n",
      "weighted avg       0.86      0.86      0.85        90\n",
      "\n"
     ]
    }
   ],
   "source": [
    "from sklearn.metrics import classification_report\n",
    "\n",
    "print(classification_report(y_test, y_pred))"
   ]
  },
  {
   "cell_type": "code",
   "execution_count": 22,
   "id": "faeef5a1-4e8a-49b3-835b-102e6c1fa03b",
   "metadata": {},
   "outputs": [],
   "source": [
    "TP = cm[0,0]\n",
    "TN = cm[1,1]\n",
    "FP = cm[0,1]\n",
    "FN = cm[1,0]"
   ]
  },
  {
   "cell_type": "code",
   "execution_count": 23,
   "id": "4f01ef6a-4a8a-4beb-bdcd-bdc0fe40ccfd",
   "metadata": {},
   "outputs": [
    {
     "name": "stdout",
     "output_type": "stream",
     "text": [
      "Sınıflandırma Doğruluğu: 0.8556\n"
     ]
    }
   ],
   "source": [
    "#Sınıflandırma Doğruluğu \n",
    "classification_accuracy = (TP + TN) / float(TP + TN + FP + FN)\n",
    "\n",
    "print('Sınıflandırma Doğruluğu: {0:0.4f}'.format(classification_accuracy))"
   ]
  },
  {
   "cell_type": "code",
   "execution_count": 24,
   "id": "b1a43da8-5039-447d-ad46-65f72bf38237",
   "metadata": {},
   "outputs": [
    {
     "name": "stdout",
     "output_type": "stream",
     "text": [
      "Hassasiyet : 0.9444\n"
     ]
    }
   ],
   "source": [
    "\n",
    "precision = TP / float(TP + FP)\n",
    "\n",
    "print('Hassasiyet : {0:0.4f}'.format(precision))"
   ]
  },
  {
   "cell_type": "code",
   "execution_count": 25,
   "id": "5170e7ae-6a8c-48bb-b2aa-6b2642d3d815",
   "metadata": {},
   "outputs": [
    {
     "name": "stdout",
     "output_type": "stream",
     "text": [
      "Özgüllük: 0.8966\n"
     ]
    }
   ],
   "source": [
    "\n",
    "specificity = TN / (TN + FP)\n",
    "\n",
    "print('Özgüllük: {0:0.4f}'.format(specificity))"
   ]
  },
  {
   "cell_type": "code",
   "execution_count": 26,
   "id": "807b39e5-f184-4cfd-9784-b3235f5a13d6",
   "metadata": {},
   "outputs": [
    {
     "name": "stdout",
     "output_type": "stream",
     "text": [
      "duyarlılık : 0.8361\n"
     ]
    }
   ],
   "source": [
    "\n",
    "recall = TP / float(TP + FN)\n",
    "\n",
    "print('duyarlılık : {0:0.4f}'.format(recall))"
   ]
  },
  {
   "cell_type": "code",
   "execution_count": 27,
   "id": "c0352b11-fe2f-4463-a80e-0dcb362eca45",
   "metadata": {},
   "outputs": [
    {
     "name": "stdout",
     "output_type": "stream",
     "text": [
      "3/3 [==============================] - 0s 5ms/step\n"
     ]
    }
   ],
   "source": [
    "y_pred = classifier.predict(X_test)\n"
   ]
  },
  {
   "cell_type": "code",
   "execution_count": 29,
   "id": "a72a62b7-bd1a-406d-8f1f-ad2e76fde1e8",
   "metadata": {},
   "outputs": [],
   "source": [
    "fpr, tpr, thresholds = roc_curve(y_test, y_pred)\n"
   ]
  },
  {
   "cell_type": "code",
   "execution_count": 30,
   "id": "89564d97-6f72-4b75-a3b3-88c1a1f91806",
   "metadata": {},
   "outputs": [],
   "source": [
    "roc_auc = auc(fpr, tpr)\n"
   ]
  },
  {
   "cell_type": "code",
   "execution_count": 31,
   "id": "f353b2d6-137f-4938-8e79-bff6f2d9dcce",
   "metadata": {},
   "outputs": [
    {
     "data": {
      "image/png": "[encoded data removed]",
      "text/plain": [
       "<Figure size 800x800 with 1 Axes>"
      ]
     },
     "metadata": {},
     "output_type": "display_data"
    }
   ],
   "source": [
    "plt.figure(figsize=(8, 8))\n",
    "plt.plot(fpr, tpr, color='darkorange', lw=2, label=f'AUC = {roc_auc:.2f}')\n",
    "plt.plot([0, 1], [0, 1], color='navy', lw=2, linestyle='--')\n",
    "plt.xlabel('False Positive Rate (FPR)')\n",
    "plt.ylabel('True Positive Rate (TPR)')\n",
    "plt.title('ROC Curve')\n",
    "plt.legend(loc=\"lower right\")\n",
    "plt.show()"
   ]
  },
  {
   "cell_type": "code",
   "execution_count": null,
   "id": "af795ef2-727e-4bfe-9192-13531299e531",
   "metadata": {},
   "outputs": [],
   "source": []
  }
 ],
 "metadata": {
  "kernelspec": {
   "display_name": "Python 3 (ipykernel)",
   "language": "python",
   "name": "python3"
  },
  "language_info": {
   "codemirror_mode": {
    "name": "ipython",
    "version": 3
   },
   "file_extension": ".py",
   "mimetype": "text/x-python",
   "name": "python",
   "nbconvert_exporter": "python",
   "pygments_lexer": "ipython3",
   "version": "3.9.7"
  }
 },
 "nbformat": 4,
 "nbformat_minor": 5
}
