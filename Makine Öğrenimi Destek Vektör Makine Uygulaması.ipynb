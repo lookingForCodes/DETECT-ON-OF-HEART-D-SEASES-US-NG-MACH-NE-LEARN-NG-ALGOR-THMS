{
 "cells": [
  {
   "cell_type": "code",
   "execution_count": 1,
   "id": "646cd1b6",
   "metadata": {},
   "outputs": [],
   "source": [
    "from sklearn.ensemble import RandomForestClassifier \n",
    "from sklearn.svm import SVC\n",
    "from sklearn.model_selection import train_test_split\n",
    "from sklearn.metrics import roc_curve, roc_auc_score \n",
    "from sklearn.preprocessing import LabelEncoder\n",
    "\n",
    "import numpy as np \n",
    "import pandas as pd\n",
    "import matplotlib.pyplot as plt \n",
    "import seaborn as sns \n",
    "%matplotlib inline"
   ]
  },
  {
   "cell_type": "code",
   "execution_count": 2,
   "id": "51e0b102",
   "metadata": {},
   "outputs": [],
   "source": [
    "#Datasetinin eklenmesi\n",
    "data=pd.read_csv('Heart_Disease_Prediction.csv')\n"
   ]
  },
  {
   "cell_type": "code",
   "execution_count": 3,
   "id": "7e7000aa",
   "metadata": {},
   "outputs": [
    {
     "data": {
      "text/plain": [
       "Absence     150\n",
       "Presence    120\n",
       "Name: Heart_Disease, dtype: int64"
      ]
     },
     "execution_count": 3,
     "metadata": {},
     "output_type": "execute_result"
    }
   ],
   "source": [
    "data['Heart_Disease'].value_counts()"
   ]
  },
  {
   "cell_type": "code",
   "execution_count": 4,
   "id": "f64e965b",
   "metadata": {},
   "outputs": [
    {
     "data": {
      "text/html": [
       "<div>\n",
       "<style scoped>\n",
       "    .dataframe tbody tr th:only-of-type {\n",
       "        vertical-align: middle;\n",
       "    }\n",
       "\n",
       "    .dataframe tbody tr th {\n",
       "        vertical-align: top;\n",
       "    }\n",
       "\n",
       "    .dataframe thead th {\n",
       "        text-align: right;\n",
       "    }\n",
       "</style>\n",
       "<table border=\"1\" class=\"dataframe\">\n",
       "  <thead>\n",
       "    <tr style=\"text-align: right;\">\n",
       "      <th></th>\n",
       "      <th>index</th>\n",
       "      <th>Age</th>\n",
       "      <th>Sex</th>\n",
       "      <th>Chest pain type</th>\n",
       "      <th>BP</th>\n",
       "      <th>Cholesterol</th>\n",
       "      <th>FBS over 120</th>\n",
       "      <th>EKG results</th>\n",
       "      <th>Max HR</th>\n",
       "      <th>Exercise angina</th>\n",
       "      <th>ST depression</th>\n",
       "      <th>Slope of ST</th>\n",
       "      <th>Number of vessels fluro</th>\n",
       "      <th>Thallium</th>\n",
       "    </tr>\n",
       "  </thead>\n",
       "  <tbody>\n",
       "    <tr>\n",
       "      <th>count</th>\n",
       "      <td>270.00</td>\n",
       "      <td>270.00</td>\n",
       "      <td>270.00</td>\n",
       "      <td>270.00</td>\n",
       "      <td>270.00</td>\n",
       "      <td>270.00</td>\n",
       "      <td>270.00</td>\n",
       "      <td>270.00</td>\n",
       "      <td>270.00</td>\n",
       "      <td>270.00</td>\n",
       "      <td>270.00</td>\n",
       "      <td>270.00</td>\n",
       "      <td>270.00</td>\n",
       "      <td>270.00</td>\n",
       "    </tr>\n",
       "    <tr>\n",
       "      <th>mean</th>\n",
       "      <td>134.50</td>\n",
       "      <td>54.43</td>\n",
       "      <td>0.68</td>\n",
       "      <td>3.17</td>\n",
       "      <td>131.34</td>\n",
       "      <td>249.66</td>\n",
       "      <td>0.15</td>\n",
       "      <td>1.02</td>\n",
       "      <td>149.68</td>\n",
       "      <td>0.33</td>\n",
       "      <td>1.05</td>\n",
       "      <td>1.59</td>\n",
       "      <td>0.67</td>\n",
       "      <td>4.70</td>\n",
       "    </tr>\n",
       "    <tr>\n",
       "      <th>std</th>\n",
       "      <td>78.09</td>\n",
       "      <td>9.11</td>\n",
       "      <td>0.47</td>\n",
       "      <td>0.95</td>\n",
       "      <td>17.86</td>\n",
       "      <td>51.69</td>\n",
       "      <td>0.36</td>\n",
       "      <td>1.00</td>\n",
       "      <td>23.17</td>\n",
       "      <td>0.47</td>\n",
       "      <td>1.15</td>\n",
       "      <td>0.61</td>\n",
       "      <td>0.94</td>\n",
       "      <td>1.94</td>\n",
       "    </tr>\n",
       "    <tr>\n",
       "      <th>min</th>\n",
       "      <td>0.00</td>\n",
       "      <td>29.00</td>\n",
       "      <td>0.00</td>\n",
       "      <td>1.00</td>\n",
       "      <td>94.00</td>\n",
       "      <td>126.00</td>\n",
       "      <td>0.00</td>\n",
       "      <td>0.00</td>\n",
       "      <td>71.00</td>\n",
       "      <td>0.00</td>\n",
       "      <td>0.00</td>\n",
       "      <td>1.00</td>\n",
       "      <td>0.00</td>\n",
       "      <td>3.00</td>\n",
       "    </tr>\n",
       "    <tr>\n",
       "      <th>25%</th>\n",
       "      <td>67.25</td>\n",
       "      <td>48.00</td>\n",
       "      <td>0.00</td>\n",
       "      <td>3.00</td>\n",
       "      <td>120.00</td>\n",
       "      <td>213.00</td>\n",
       "      <td>0.00</td>\n",
       "      <td>0.00</td>\n",
       "      <td>133.00</td>\n",
       "      <td>0.00</td>\n",
       "      <td>0.00</td>\n",
       "      <td>1.00</td>\n",
       "      <td>0.00</td>\n",
       "      <td>3.00</td>\n",
       "    </tr>\n",
       "    <tr>\n",
       "      <th>50%</th>\n",
       "      <td>134.50</td>\n",
       "      <td>55.00</td>\n",
       "      <td>1.00</td>\n",
       "      <td>3.00</td>\n",
       "      <td>130.00</td>\n",
       "      <td>245.00</td>\n",
       "      <td>0.00</td>\n",
       "      <td>2.00</td>\n",
       "      <td>153.50</td>\n",
       "      <td>0.00</td>\n",
       "      <td>0.80</td>\n",
       "      <td>2.00</td>\n",
       "      <td>0.00</td>\n",
       "      <td>3.00</td>\n",
       "    </tr>\n",
       "    <tr>\n",
       "      <th>75%</th>\n",
       "      <td>201.75</td>\n",
       "      <td>61.00</td>\n",
       "      <td>1.00</td>\n",
       "      <td>4.00</td>\n",
       "      <td>140.00</td>\n",
       "      <td>280.00</td>\n",
       "      <td>0.00</td>\n",
       "      <td>2.00</td>\n",
       "      <td>166.00</td>\n",
       "      <td>1.00</td>\n",
       "      <td>1.60</td>\n",
       "      <td>2.00</td>\n",
       "      <td>1.00</td>\n",
       "      <td>7.00</td>\n",
       "    </tr>\n",
       "    <tr>\n",
       "      <th>max</th>\n",
       "      <td>269.00</td>\n",
       "      <td>77.00</td>\n",
       "      <td>1.00</td>\n",
       "      <td>4.00</td>\n",
       "      <td>200.00</td>\n",
       "      <td>564.00</td>\n",
       "      <td>1.00</td>\n",
       "      <td>2.00</td>\n",
       "      <td>202.00</td>\n",
       "      <td>1.00</td>\n",
       "      <td>6.20</td>\n",
       "      <td>3.00</td>\n",
       "      <td>3.00</td>\n",
       "      <td>7.00</td>\n",
       "    </tr>\n",
       "  </tbody>\n",
       "</table>\n",
       "</div>"
      ],
      "text/plain": [
       "        index     Age     Sex  Chest pain type      BP  Cholesterol  \\\n",
       "count  270.00  270.00  270.00           270.00  270.00       270.00   \n",
       "mean   134.50   54.43    0.68             3.17  131.34       249.66   \n",
       "std     78.09    9.11    0.47             0.95   17.86        51.69   \n",
       "min      0.00   29.00    0.00             1.00   94.00       126.00   \n",
       "25%     67.25   48.00    0.00             3.00  120.00       213.00   \n",
       "50%    134.50   55.00    1.00             3.00  130.00       245.00   \n",
       "75%    201.75   61.00    1.00             4.00  140.00       280.00   \n",
       "max    269.00   77.00    1.00             4.00  200.00       564.00   \n",
       "\n",
       "       FBS over 120  EKG results  Max HR  Exercise angina  ST depression  \\\n",
       "count        270.00       270.00  270.00           270.00         270.00   \n",
       "mean           0.15         1.02  149.68             0.33           1.05   \n",
       "std            0.36         1.00   23.17             0.47           1.15   \n",
       "min            0.00         0.00   71.00             0.00           0.00   \n",
       "25%            0.00         0.00  133.00             0.00           0.00   \n",
       "50%            0.00         2.00  153.50             0.00           0.80   \n",
       "75%            0.00         2.00  166.00             1.00           1.60   \n",
       "max            1.00         2.00  202.00             1.00           6.20   \n",
       "\n",
       "       Slope of ST  Number of vessels fluro  Thallium  \n",
       "count       270.00                   270.00    270.00  \n",
       "mean          1.59                     0.67      4.70  \n",
       "std           0.61                     0.94      1.94  \n",
       "min           1.00                     0.00      3.00  \n",
       "25%           1.00                     0.00      3.00  \n",
       "50%           2.00                     0.00      3.00  \n",
       "75%           2.00                     1.00      7.00  \n",
       "max           3.00                     3.00      7.00  "
      ]
     },
     "execution_count": 4,
     "metadata": {},
     "output_type": "execute_result"
    }
   ],
   "source": [
    "#Data için istatiksel özet bilgileri hesapladık.\n",
    "#Ortalama,standart sapma,sayıların toplamı...\n",
    "round(data.describe(),2)"
   ]
  },
  {
   "cell_type": "code",
   "execution_count": 5,
   "id": "97f7acd6",
   "metadata": {},
   "outputs": [
    {
     "data": {
      "text/plain": [
       "Text(0, 0.5, 'Thallium')"
      ]
     },
     "execution_count": 5,
     "metadata": {},
     "output_type": "execute_result"
    },
    {
     "data": {
      "image/png": "[encoded data removed]",
      "text/plain": [
       "<Figure size 1728x1440 with 7 Axes>"
      ]
     },
     "metadata": {
      "needs_background": "light"
     },
     "output_type": "display_data"
    }
   ],
   "source": [
    "#Kutu grafiği (box plot) oluşturma,veri noktalarının dağılımını görmek için kullandık.\n",
    "plt.figure(figsize=(24,20))\n",
    "\n",
    "plt.subplot(4, 2, 2)\n",
    "fig = data.boxplot(column='Age')\n",
    "fig.set_title('')\n",
    "fig.set_ylabel('Age')\n",
    "\n",
    "plt.subplot(4, 2, 3)\n",
    "fig = data.boxplot(column='Sex')\n",
    "fig.set_title('')\n",
    "fig.set_ylabel('Sex')\n",
    "\n",
    "plt.subplot(4, 2, 4)\n",
    "fig = data.boxplot(column='Chest pain type')\n",
    "fig.set_title('')\n",
    "fig.set_ylabel('Chest pain type')\n",
    "\n",
    "plt.subplot(4, 2, 5)\n",
    "fig = data.boxplot(column='BP')\n",
    "fig.set_title('')\n",
    "fig.set_ylabel('BP')\n",
    "\n",
    "plt.subplot(4, 2, 6)\n",
    "fig = data.boxplot(column='Cholesterol')\n",
    "fig.set_title('')\n",
    "fig.set_ylabel('Cholesterol')\n",
    "\n",
    "plt.subplot(4, 2, 7)\n",
    "fig = data.boxplot(column='FBS over 120')\n",
    "fig.set_title('')\n",
    "fig.set_ylabel('FBS over 120')\n",
    "\n",
    "plt.subplot(4, 2, 7)\n",
    "fig = data.boxplot(column='EKG results')\n",
    "fig.set_title('')\n",
    "fig.set_ylabel('EKG results')\n",
    "\n",
    "plt.subplot(4, 2, 7)\n",
    "fig = data.boxplot(column='Max HR')\n",
    "fig.set_title('')\n",
    "fig.set_ylabel('Max HR')\n",
    "\n",
    "plt.subplot(4, 2, 7)\n",
    "fig = data.boxplot(column='Exercise angina')\n",
    "fig.set_title('')\n",
    "fig.set_ylabel('Exercise angina')\n",
    "\n",
    "plt.subplot(4, 2, 7)\n",
    "fig = data.boxplot(column='Slope of ST')\n",
    "fig.set_title('')\n",
    "fig.set_ylabel('Slope of ST')\n",
    "\n",
    "plt.subplot(4, 2, 7)\n",
    "fig = data.boxplot(column='Number of vessels fluro')\n",
    "fig.set_title('')\n",
    "fig.set_ylabel('Number of vessels fluro')\n",
    "\n",
    "plt.subplot(4, 2, 8)\n",
    "fig = data.boxplot(column='ST depression')\n",
    "fig.set_title('')\n",
    "fig.set_ylabel('ST depression')\n",
    "\n",
    "plt.subplot(4, 2, 7)\n",
    "fig = data.boxplot(column='Thallium')\n",
    "fig.set_title('')\n",
    "fig.set_ylabel('Thallium')"
   ]
  },
  {
   "cell_type": "code",
   "execution_count": 6,
   "id": "a0e8459b",
   "metadata": {},
   "outputs": [
    {
     "data": {
      "text/plain": [
       "Text(0, 0.5, 'Number of pulsar stars')"
      ]
     },
     "execution_count": 6,
     "metadata": {},
     "output_type": "execute_result"
    },
    {
     "data": {
      "image/png": "[encoded data removed]",
      "text/plain": [
       "<Figure size 1728x1440 with 8 Axes>"
      ]
     },
     "metadata": {
      "needs_background": "light"
     },
     "output_type": "display_data"
    }
   ],
   "source": [
    "#Histogram Oluşturma ,Veri noktalarının Frekans dağılımlarını görmek ve veri dağılımını anlamak için kullandık. \n",
    "plt.figure(figsize=(24,20))\n",
    "\n",
    "\n",
    "plt.subplot(4, 2, 1)\n",
    "fig = data['Age'].hist(bins=20)\n",
    "fig.set_xlabel('Age')\n",
    "fig.set_ylabel('Number of pulsar stars')\n",
    "\n",
    "\n",
    "plt.subplot(4, 2, 2)\n",
    "fig = data['Sex'].hist(bins=20)\n",
    "fig.set_xlabel('Sex')\n",
    "fig.set_ylabel('Number of pulsar stars')\n",
    "\n",
    "\n",
    "plt.subplot(4, 2, 3)\n",
    "fig = data['BP'].hist(bins=20)\n",
    "fig.set_xlabel('BP')\n",
    "fig.set_ylabel('Number of pulsar stars')\n",
    "\n",
    "\n",
    "\n",
    "plt.subplot(4, 2, 4)\n",
    "fig = data['Chest pain type'].hist(bins=20)\n",
    "fig.set_xlabel('Chest pain type')\n",
    "fig.set_ylabel('Number of pulsar stars')\n",
    "\n",
    "\n",
    "\n",
    "plt.subplot(4, 2, 5)\n",
    "fig = data['Cholesterol'].hist(bins=20)\n",
    "fig.set_xlabel('Cholesterol')\n",
    "fig.set_ylabel('Number of pulsar stars')\n",
    "\n",
    "\n",
    "\n",
    "plt.subplot(4, 2, 6)\n",
    "fig = data['FBS over 120'].hist(bins=20)\n",
    "fig.set_xlabel('FBS over 120')\n",
    "fig.set_ylabel('Number of pulsar stars')\n",
    "\n",
    "\n",
    "\n",
    "plt.subplot(4, 2, 7)\n",
    "fig = data['EKG results'].hist(bins=20)\n",
    "fig.set_xlabel('EKG results')\n",
    "fig.set_ylabel('Number of pulsar stars')\n",
    "\n",
    "\n",
    "plt.subplot(4, 2, 8)\n",
    "fig = data['Slope of ST'].hist(bins=20)\n",
    "fig.set_xlabel('Slope of ST')\n",
    "fig.set_ylabel('Number of pulsar stars')\n",
    "\n",
    "\n",
    "plt.subplot(4, 2, 8)\n",
    "fig = data['ST depression'].hist(bins=20)\n",
    "fig.set_xlabel('ST depression')\n",
    "fig.set_ylabel('Number of pulsar stars')\n",
    "\n",
    "\n",
    "plt.subplot(4, 2, 8)\n",
    "fig = data['Max HR'].hist(bins=20)\n",
    "fig.set_xlabel('Max HR')\n",
    "fig.set_ylabel('Number of pulsar stars')\n",
    "\n",
    "\n",
    "plt.subplot(4, 2, 8)\n",
    "fig = data['Exercise angina'].hist(bins=20)\n",
    "fig.set_xlabel('Exercise angina')\n",
    "fig.set_ylabel('Number of pulsar stars')\n",
    "\n",
    "\n",
    "\n",
    "plt.subplot(4, 2, 8)\n",
    "fig = data['Number of vessels fluro'].hist(bins=20)\n",
    "fig.set_xlabel('Number of vessels fluro')\n",
    "fig.set_ylabel('Number of pulsar stars')\n",
    "\n",
    "\n",
    "plt.subplot(4, 2, 8)\n",
    "fig = data['Thallium'].hist(bins=20)\n",
    "fig.set_xlabel('Thallium')\n",
    "fig.set_ylabel('Number of pulsar stars')\n"
   ]
  },
  {
   "cell_type": "code",
   "execution_count": 7,
   "id": "a1bb36cd",
   "metadata": {},
   "outputs": [],
   "source": [
    "X = data.drop(['index','Heart_Disease'], axis=1)\n",
    "\n",
    "y = data['Heart_Disease']"
   ]
  },
  {
   "cell_type": "code",
   "execution_count": 8,
   "id": "222a6771",
   "metadata": {},
   "outputs": [],
   "source": [
    "#Data setimizi test ve train olmak üzere 2'ye bölüyoruz\n",
    "from sklearn.model_selection import train_test_split\n",
    "\n",
    "X_train, X_test, y_train, y_test = train_test_split(X, y, test_size = 0.2, random_state = 0)\n"
   ]
  },
  {
   "cell_type": "code",
   "execution_count": 9,
   "id": "831a536b",
   "metadata": {},
   "outputs": [
    {
     "data": {
      "text/plain": [
       "((216, 13), (54, 13))"
      ]
     },
     "execution_count": 9,
     "metadata": {},
     "output_type": "execute_result"
    }
   ],
   "source": [
    "\n",
    "X_train.shape, X_test.shape\n"
   ]
  },
  {
   "cell_type": "code",
   "execution_count": 10,
   "id": "dd93307d",
   "metadata": {},
   "outputs": [],
   "source": [
    "cols = X_train.columns"
   ]
  },
  {
   "cell_type": "code",
   "execution_count": 11,
   "id": "01a873d9",
   "metadata": {},
   "outputs": [],
   "source": [
    "\n",
    "from sklearn.preprocessing import StandardScaler\n",
    "\n",
    "scaler = StandardScaler()#veri özelliklerini ortalama değeri çıkararak ve birim varyansla ölçeklendirerek standartlaştırma\n",
    "\n",
    "X_train = scaler.fit_transform(X_train)# eğitim verilerinin dağılımını hesaplama\n",
    "\n",
    "X_test = scaler.transform(X_test)"
   ]
  },
  {
   "cell_type": "code",
   "execution_count": 12,
   "id": "74b394f0",
   "metadata": {},
   "outputs": [],
   "source": [
    "X_train = pd.DataFrame(X_train, columns=[cols])"
   ]
  },
  {
   "cell_type": "code",
   "execution_count": 13,
   "id": "8107be42",
   "metadata": {},
   "outputs": [
    {
     "data": {
      "text/html": [
       "<div>\n",
       "<style scoped>\n",
       "    .dataframe tbody tr th:only-of-type {\n",
       "        vertical-align: middle;\n",
       "    }\n",
       "\n",
       "    .dataframe tbody tr th {\n",
       "        vertical-align: top;\n",
       "    }\n",
       "\n",
       "    .dataframe thead tr th {\n",
       "        text-align: left;\n",
       "    }\n",
       "</style>\n",
       "<table border=\"1\" class=\"dataframe\">\n",
       "  <thead>\n",
       "    <tr>\n",
       "      <th></th>\n",
       "      <th>Age</th>\n",
       "      <th>Sex</th>\n",
       "      <th>Chest pain type</th>\n",
       "      <th>BP</th>\n",
       "      <th>Cholesterol</th>\n",
       "      <th>FBS over 120</th>\n",
       "      <th>EKG results</th>\n",
       "      <th>Max HR</th>\n",
       "      <th>Exercise angina</th>\n",
       "      <th>ST depression</th>\n",
       "      <th>Slope of ST</th>\n",
       "      <th>Number of vessels fluro</th>\n",
       "      <th>Thallium</th>\n",
       "    </tr>\n",
       "  </thead>\n",
       "  <tbody>\n",
       "    <tr>\n",
       "      <th>count</th>\n",
       "      <td>2.160000e+02</td>\n",
       "      <td>2.160000e+02</td>\n",
       "      <td>2.160000e+02</td>\n",
       "      <td>2.160000e+02</td>\n",
       "      <td>2.160000e+02</td>\n",
       "      <td>2.160000e+02</td>\n",
       "      <td>2.160000e+02</td>\n",
       "      <td>2.160000e+02</td>\n",
       "      <td>2.160000e+02</td>\n",
       "      <td>2.160000e+02</td>\n",
       "      <td>2.160000e+02</td>\n",
       "      <td>2.160000e+02</td>\n",
       "      <td>2.160000e+02</td>\n",
       "    </tr>\n",
       "    <tr>\n",
       "      <th>mean</th>\n",
       "      <td>3.669904e-16</td>\n",
       "      <td>3.289550e-17</td>\n",
       "      <td>-5.037123e-17</td>\n",
       "      <td>-3.854941e-16</td>\n",
       "      <td>2.030269e-16</td>\n",
       "      <td>7.195890e-18</td>\n",
       "      <td>9.663052e-17</td>\n",
       "      <td>-5.263280e-16</td>\n",
       "      <td>1.027984e-17</td>\n",
       "      <td>5.396917e-17</td>\n",
       "      <td>-2.091948e-16</td>\n",
       "      <td>1.408338e-16</td>\n",
       "      <td>-1.634495e-16</td>\n",
       "    </tr>\n",
       "    <tr>\n",
       "      <th>std</th>\n",
       "      <td>1.002323e+00</td>\n",
       "      <td>1.002323e+00</td>\n",
       "      <td>1.002323e+00</td>\n",
       "      <td>1.002323e+00</td>\n",
       "      <td>1.002323e+00</td>\n",
       "      <td>1.002323e+00</td>\n",
       "      <td>1.002323e+00</td>\n",
       "      <td>1.002323e+00</td>\n",
       "      <td>1.002323e+00</td>\n",
       "      <td>1.002323e+00</td>\n",
       "      <td>1.002323e+00</td>\n",
       "      <td>1.002323e+00</td>\n",
       "      <td>1.002323e+00</td>\n",
       "    </tr>\n",
       "    <tr>\n",
       "      <th>min</th>\n",
       "      <td>-2.758607e+00</td>\n",
       "      <td>-1.491268e+00</td>\n",
       "      <td>-2.224548e+00</td>\n",
       "      <td>-2.179088e+00</td>\n",
       "      <td>-2.353957e+00</td>\n",
       "      <td>-4.093502e-01</td>\n",
       "      <td>-9.771353e-01</td>\n",
       "      <td>-2.686509e+00</td>\n",
       "      <td>-7.071068e-01</td>\n",
       "      <td>-8.838287e-01</td>\n",
       "      <td>-9.503660e-01</td>\n",
       "      <td>-6.924248e-01</td>\n",
       "      <td>-8.634424e-01</td>\n",
       "    </tr>\n",
       "    <tr>\n",
       "      <th>25%</th>\n",
       "      <td>-7.742474e-01</td>\n",
       "      <td>-1.491268e+00</td>\n",
       "      <td>-1.489438e-01</td>\n",
       "      <td>-6.671338e-01</td>\n",
       "      <td>-6.997575e-01</td>\n",
       "      <td>-4.093502e-01</td>\n",
       "      <td>-9.771353e-01</td>\n",
       "      <td>-7.535183e-01</td>\n",
       "      <td>-7.071068e-01</td>\n",
       "      <td>-8.838287e-01</td>\n",
       "      <td>-9.503660e-01</td>\n",
       "      <td>-6.924248e-01</td>\n",
       "      <td>-8.634424e-01</td>\n",
       "    </tr>\n",
       "    <tr>\n",
       "      <th>50%</th>\n",
       "      <td>1.076903e-01</td>\n",
       "      <td>6.705702e-01</td>\n",
       "      <td>-1.489438e-01</td>\n",
       "      <td>-8.561281e-02</td>\n",
       "      <td>-6.500674e-02</td>\n",
       "      <td>-4.093502e-01</td>\n",
       "      <td>-9.771353e-01</td>\n",
       "      <td>1.643822e-01</td>\n",
       "      <td>-7.071068e-01</td>\n",
       "      <td>-3.335424e-01</td>\n",
       "      <td>7.051102e-01</td>\n",
       "      <td>-6.924248e-01</td>\n",
       "      <td>-8.634424e-01</td>\n",
       "    </tr>\n",
       "    <tr>\n",
       "      <th>75%</th>\n",
       "      <td>6.864619e-01</td>\n",
       "      <td>6.705702e-01</td>\n",
       "      <td>8.888583e-01</td>\n",
       "      <td>4.959082e-01</td>\n",
       "      <td>5.168481e-01</td>\n",
       "      <td>-4.093502e-01</td>\n",
       "      <td>1.032972e+00</td>\n",
       "      <td>8.123120e-01</td>\n",
       "      <td>1.414214e+00</td>\n",
       "      <td>6.400409e-01</td>\n",
       "      <td>7.051102e-01</td>\n",
       "      <td>3.758877e-01</td>\n",
       "      <td>1.214592e+00</td>\n",
       "    </tr>\n",
       "    <tr>\n",
       "      <th>max</th>\n",
       "      <td>2.422777e+00</td>\n",
       "      <td>6.705702e-01</td>\n",
       "      <td>8.888583e-01</td>\n",
       "      <td>3.985034e+00</td>\n",
       "      <td>6.070917e+00</td>\n",
       "      <td>2.442896e+00</td>\n",
       "      <td>1.032972e+00</td>\n",
       "      <td>2.237757e+00</td>\n",
       "      <td>1.414214e+00</td>\n",
       "      <td>4.365055e+00</td>\n",
       "      <td>2.360586e+00</td>\n",
       "      <td>2.512513e+00</td>\n",
       "      <td>1.214592e+00</td>\n",
       "    </tr>\n",
       "  </tbody>\n",
       "</table>\n",
       "</div>"
      ],
      "text/plain": [
       "                Age           Sex Chest pain type            BP   Cholesterol  \\\n",
       "count  2.160000e+02  2.160000e+02    2.160000e+02  2.160000e+02  2.160000e+02   \n",
       "mean   3.669904e-16  3.289550e-17   -5.037123e-17 -3.854941e-16  2.030269e-16   \n",
       "std    1.002323e+00  1.002323e+00    1.002323e+00  1.002323e+00  1.002323e+00   \n",
       "min   -2.758607e+00 -1.491268e+00   -2.224548e+00 -2.179088e+00 -2.353957e+00   \n",
       "25%   -7.742474e-01 -1.491268e+00   -1.489438e-01 -6.671338e-01 -6.997575e-01   \n",
       "50%    1.076903e-01  6.705702e-01   -1.489438e-01 -8.561281e-02 -6.500674e-02   \n",
       "75%    6.864619e-01  6.705702e-01    8.888583e-01  4.959082e-01  5.168481e-01   \n",
       "max    2.422777e+00  6.705702e-01    8.888583e-01  3.985034e+00  6.070917e+00   \n",
       "\n",
       "       FBS over 120   EKG results        Max HR Exercise angina ST depression  \\\n",
       "count  2.160000e+02  2.160000e+02  2.160000e+02    2.160000e+02  2.160000e+02   \n",
       "mean   7.195890e-18  9.663052e-17 -5.263280e-16    1.027984e-17  5.396917e-17   \n",
       "std    1.002323e+00  1.002323e+00  1.002323e+00    1.002323e+00  1.002323e+00   \n",
       "min   -4.093502e-01 -9.771353e-01 -2.686509e+00   -7.071068e-01 -8.838287e-01   \n",
       "25%   -4.093502e-01 -9.771353e-01 -7.535183e-01   -7.071068e-01 -8.838287e-01   \n",
       "50%   -4.093502e-01 -9.771353e-01  1.643822e-01   -7.071068e-01 -3.335424e-01   \n",
       "75%   -4.093502e-01  1.032972e+00  8.123120e-01    1.414214e+00  6.400409e-01   \n",
       "max    2.442896e+00  1.032972e+00  2.237757e+00    1.414214e+00  4.365055e+00   \n",
       "\n",
       "        Slope of ST Number of vessels fluro      Thallium  \n",
       "count  2.160000e+02            2.160000e+02  2.160000e+02  \n",
       "mean  -2.091948e-16            1.408338e-16 -1.634495e-16  \n",
       "std    1.002323e+00            1.002323e+00  1.002323e+00  \n",
       "min   -9.503660e-01           -6.924248e-01 -8.634424e-01  \n",
       "25%   -9.503660e-01           -6.924248e-01 -8.634424e-01  \n",
       "50%    7.051102e-01           -6.924248e-01 -8.634424e-01  \n",
       "75%    7.051102e-01            3.758877e-01  1.214592e+00  \n",
       "max    2.360586e+00            2.512513e+00  1.214592e+00  "
      ]
     },
     "execution_count": 13,
     "metadata": {},
     "output_type": "execute_result"
    }
   ],
   "source": [
    "X_train.describe()"
   ]
  },
  {
   "cell_type": "code",
   "execution_count": 14,
   "id": "4c69d4df",
   "metadata": {},
   "outputs": [
    {
     "name": "stdout",
     "output_type": "stream",
     "text": [
      "varsayılan hiperparametreler ile test verileri üzerinde doğruluk skoru 0.7407\n"
     ]
    }
   ],
   "source": [
    "#Destek vektör Makinesi(SVM)\n",
    "from sklearn.svm import SVC\n",
    "from sklearn.metrics import accuracy_score\n",
    "svc=SVC() \n",
    "svc.fit(X_train,y_train)\n",
    "y_pred=svc.predict(X_test)\n",
    "print('varsayılan hiperparametreler ile test verileri üzerinde doğruluk skoru {0:0.4f}'. format(accuracy_score(y_test, y_pred)))"
   ]
  },
  {
   "cell_type": "code",
   "execution_count": 15,
   "id": "2be88887",
   "metadata": {},
   "outputs": [
    {
     "name": "stdout",
     "output_type": "stream",
     "text": [
      "lineer ve C=1.0 parametresi kullanarak test verileri üzerindeki doğruluk değeri: 0.7593\n"
     ]
    }
   ],
   "source": [
    "#\n",
    "linear_svc=SVC(kernel='linear', C=1.0) #düzenleştirme parametresi ve Lineer çekirdek\n",
    "linear_svc.fit(X_train,y_train)\n",
    "y_p_test=linear_svc.predict(X_test)\n",
    "print('lineer ve C=1.0 parametresi kullanarak test verileri üzerindeki doğruluk değeri: {0:0.4f}'. format(accuracy_score(y_test, y_p_test)))"
   ]
  },
  {
   "cell_type": "code",
   "execution_count": 16,
   "id": "69c48b21",
   "metadata": {},
   "outputs": [
    {
     "data": {
      "text/plain": [
       "array(['Absence', 'Absence', 'Absence', 'Presence', 'Absence', 'Presence',\n",
       "       'Absence', 'Absence', 'Absence', 'Absence', 'Absence', 'Presence',\n",
       "       'Absence', 'Presence', 'Absence', 'Absence', 'Absence', 'Absence',\n",
       "       'Presence', 'Absence', 'Presence', 'Absence', 'Presence',\n",
       "       'Absence', 'Absence', 'Presence', 'Presence', 'Absence',\n",
       "       'Presence', 'Absence', 'Presence', 'Absence', 'Presence',\n",
       "       'Absence', 'Presence', 'Absence', 'Presence', 'Absence', 'Absence',\n",
       "       'Presence', 'Absence', 'Absence', 'Absence', 'Presence', 'Absence',\n",
       "       'Absence', 'Absence', 'Absence', 'Absence', 'Absence', 'Presence',\n",
       "       'Absence', 'Absence', 'Absence', 'Presence', 'Absence', 'Absence',\n",
       "       'Presence', 'Presence', 'Absence', 'Presence', 'Presence',\n",
       "       'Absence', 'Absence', 'Presence', 'Presence', 'Absence',\n",
       "       'Presence', 'Absence', 'Absence', 'Presence', 'Absence', 'Absence',\n",
       "       'Presence', 'Absence', 'Absence', 'Absence', 'Presence', 'Absence',\n",
       "       'Absence', 'Presence', 'Presence', 'Absence', 'Absence', 'Absence',\n",
       "       'Presence', 'Presence', 'Absence', 'Absence', 'Presence',\n",
       "       'Presence', 'Presence', 'Presence', 'Absence', 'Absence',\n",
       "       'Absence', 'Absence', 'Absence', 'Presence', 'Absence', 'Absence',\n",
       "       'Presence', 'Absence', 'Presence', 'Presence', 'Absence',\n",
       "       'Presence', 'Absence', 'Presence', 'Presence', 'Presence',\n",
       "       'Presence', 'Absence', 'Presence', 'Presence', 'Absence',\n",
       "       'Absence', 'Absence', 'Absence', 'Presence', 'Absence', 'Absence',\n",
       "       'Absence', 'Presence', 'Absence', 'Absence', 'Presence', 'Absence',\n",
       "       'Presence', 'Absence', 'Presence', 'Presence', 'Absence',\n",
       "       'Presence', 'Presence', 'Presence', 'Absence', 'Absence',\n",
       "       'Absence', 'Presence', 'Presence', 'Absence', 'Presence',\n",
       "       'Absence', 'Absence', 'Presence', 'Presence', 'Presence',\n",
       "       'Presence', 'Presence', 'Absence', 'Presence', 'Absence',\n",
       "       'Absence', 'Presence', 'Absence', 'Presence', 'Absence', 'Absence',\n",
       "       'Absence', 'Absence', 'Presence', 'Presence', 'Absence', 'Absence',\n",
       "       'Presence', 'Presence', 'Absence', 'Presence', 'Presence',\n",
       "       'Absence', 'Absence', 'Absence', 'Absence', 'Presence', 'Absence',\n",
       "       'Absence', 'Presence', 'Presence', 'Presence', 'Absence',\n",
       "       'Absence', 'Absence', 'Absence', 'Presence', 'Absence', 'Presence',\n",
       "       'Absence', 'Absence', 'Presence', 'Presence', 'Absence',\n",
       "       'Presence', 'Absence', 'Absence', 'Absence', 'Absence', 'Absence',\n",
       "       'Presence', 'Absence', 'Absence', 'Absence', 'Absence', 'Presence',\n",
       "       'Absence', 'Presence', 'Presence', 'Absence', 'Absence',\n",
       "       'Presence', 'Absence', 'Absence', 'Absence', 'Presence', 'Absence',\n",
       "       'Presence'], dtype=object)"
      ]
     },
     "execution_count": 16,
     "metadata": {},
     "output_type": "execute_result"
    }
   ],
   "source": [
    "y_pred_train = linear_svc.predict(X_train)\n",
    "y_pred_train"
   ]
  },
  {
   "cell_type": "code",
   "execution_count": 17,
   "id": "43577728",
   "metadata": {},
   "outputs": [
    {
     "name": "stdout",
     "output_type": "stream",
     "text": [
      "Eğitim verisi Doğruluk skoru: 0.8750\n"
     ]
    }
   ],
   "source": [
    "print('Eğitim verisi Doğruluk skoru: {0:0.4f}'. format(accuracy_score(y_train, y_pred_train)))"
   ]
  },
  {
   "cell_type": "code",
   "execution_count": 18,
   "id": "78c82e5b",
   "metadata": {},
   "outputs": [
    {
     "name": "stdout",
     "output_type": "stream",
     "text": [
      "Eğitim Veri Kümesi Skoru: 0.8750\n",
      "Test Veri kümesi Skoru: 0.7593\n"
     ]
    }
   ],
   "source": [
    "print('Eğitim Veri Kümesi Skoru: {:.4f}'.format(linear_svc.score(X_train, y_train)))\n",
    "\n",
    "print('Test Veri kümesi Skoru: {:.4f}'.format(linear_svc.score(X_test, y_test)))"
   ]
  },
  {
   "cell_type": "code",
   "execution_count": 19,
   "id": "8a0f1e40",
   "metadata": {},
   "outputs": [
    {
     "data": {
      "text/plain": [
       "Absence     30\n",
       "Presence    24\n",
       "Name: Heart_Disease, dtype: int64"
      ]
     },
     "execution_count": 19,
     "metadata": {},
     "output_type": "execute_result"
    }
   ],
   "source": [
    "y_test.value_counts()"
   ]
  },
  {
   "cell_type": "code",
   "execution_count": 20,
   "id": "0f5cfe61",
   "metadata": {},
   "outputs": [
    {
     "name": "stdout",
     "output_type": "stream",
     "text": [
      "Null accuracy score: 0.5556\n"
     ]
    }
   ],
   "source": [
    "\n",
    "\n",
    "null_accuracy = (30/(30+24))\n",
    "\n",
    "print('Null accuracy score: {0:0.4f}'. format(null_accuracy))\n"
   ]
  },
  {
   "cell_type": "code",
   "execution_count": 21,
   "id": "724d0ad0",
   "metadata": {},
   "outputs": [
    {
     "name": "stdout",
     "output_type": "stream",
     "text": [
      "Confusion matrix\n",
      "\n",
      " [[24  6]\n",
      " [ 7 17]]\n",
      "\n",
      "True Positives(TP) =  24\n",
      "\n",
      "True Negatives(TN) =  17\n",
      "\n",
      "False Positives(FP) =  6\n",
      "\n",
      "False Negatives(FN) =  7\n"
     ]
    }
   ],
   "source": [
    "from sklearn.metrics import confusion_matrix\n",
    "\n",
    "cm = confusion_matrix(y_test, y_p_test) #karmaşıklık matrisi\n",
    "\n",
    "print('Confusion matrix\\n\\n', cm)\n",
    "\n",
    "print('\\nTrue Positives(TP) = ', cm[0,0])\n",
    "\n",
    "print('\\nTrue Negatives(TN) = ', cm[1,1])\n",
    "\n",
    "print('\\nFalse Positives(FP) = ', cm[0,1])\n",
    "\n",
    "print('\\nFalse Negatives(FN) = ', cm[1,0])"
   ]
  },
  {
   "cell_type": "code",
   "execution_count": 22,
   "id": "b10154eb",
   "metadata": {},
   "outputs": [
    {
     "data": {
      "text/plain": [
       "<AxesSubplot:>"
      ]
     },
     "execution_count": 22,
     "metadata": {},
     "output_type": "execute_result"
    },
    {
     "data": {
      "image/png": "[encoded data removed]",
      "text/plain": [
       "<Figure size 432x288 with 2 Axes>"
      ]
     },
     "metadata": {
      "needs_background": "light"
     },
     "output_type": "display_data"
    }
   ],
   "source": [
    "m_matrix= pd.DataFrame(data=cm,columns=['Actual Positive:1', 'Actual Negative:0'],index=['Predict Positive:1', 'Predict Negative:0'])\n",
    "\n",
    "sns.heatmap(cm, annot=True, fmt='d', cmap='YlGnBu')"
   ]
  },
  {
   "cell_type": "code",
   "execution_count": 23,
   "id": "86cd3746",
   "metadata": {},
   "outputs": [
    {
     "name": "stdout",
     "output_type": "stream",
     "text": [
      "              precision    recall  f1-score   support\n",
      "\n",
      "     Absence       0.77      0.80      0.79        30\n",
      "    Presence       0.74      0.71      0.72        24\n",
      "\n",
      "    accuracy                           0.76        54\n",
      "   macro avg       0.76      0.75      0.76        54\n",
      "weighted avg       0.76      0.76      0.76        54\n",
      "\n"
     ]
    }
   ],
   "source": [
    "from sklearn.metrics import classification_report\n",
    "\n",
    "print(classification_report(y_test, y_p_test))"
   ]
  },
  {
   "cell_type": "code",
   "execution_count": 24,
   "id": "e4b8464c",
   "metadata": {},
   "outputs": [],
   "source": [
    "TP = cm[0,0]\n",
    "TN = cm[1,1]\n",
    "FP = cm[0,1]\n",
    "FN = cm[1,0]"
   ]
  },
  {
   "cell_type": "code",
   "execution_count": 25,
   "id": "5357aa57",
   "metadata": {},
   "outputs": [
    {
     "name": "stdout",
     "output_type": "stream",
     "text": [
      "Sınıflandırma Doğruluğu: 0.7593\n"
     ]
    }
   ],
   "source": [
    "#Sınıflandırma Doğruluğu \n",
    "classification_accuracy = (TP + TN) / float(TP + TN + FP + FN)\n",
    "\n",
    "print('Sınıflandırma Doğruluğu: {0:0.4f}'.format(classification_accuracy))"
   ]
  },
  {
   "cell_type": "code",
   "execution_count": 26,
   "id": "df3c7ebf",
   "metadata": {},
   "outputs": [
    {
     "name": "stdout",
     "output_type": "stream",
     "text": [
      "Hassasiyet : 0.8000\n"
     ]
    }
   ],
   "source": [
    "\n",
    "precision = TP / float(TP + FP)\n",
    "\n",
    "print('Hassasiyet : {0:0.4f}'.format(precision))"
   ]
  },
  {
   "cell_type": "code",
   "execution_count": 27,
   "id": "eb25d5bc",
   "metadata": {},
   "outputs": [
    {
     "name": "stdout",
     "output_type": "stream",
     "text": [
      "duyarlılık : 0.7742\n"
     ]
    }
   ],
   "source": [
    "\n",
    "recall = TP / float(TP + FN)\n",
    "\n",
    "print('duyarlılık : {0:0.4f}'.format(recall))"
   ]
  },
  {
   "cell_type": "code",
   "execution_count": 28,
   "id": "252a0cfb",
   "metadata": {},
   "outputs": [
    {
     "name": "stdout",
     "output_type": "stream",
     "text": [
      "Özgüllük: 0.7391\n"
     ]
    }
   ],
   "source": [
    "\n",
    "specificity = TN / (TN + FP)\n",
    "\n",
    "print('Özgüllük: {0:0.4f}'.format(specificity))"
   ]
  },
  {
   "cell_type": "code",
   "execution_count": 29,
   "id": "77a5f521",
   "metadata": {},
   "outputs": [
    {
     "name": "stdout",
     "output_type": "stream",
     "text": [
      "Çapraz doğrulanmış ROC AUC : 0.9106\n"
     ]
    }
   ],
   "source": [
    "from sklearn.model_selection import cross_val_score\n",
    "\n",
    "Cross_validated_ROC_AUC = cross_val_score(linear_svc, X_train, y_train, cv=10, scoring='roc_auc').mean()\n",
    "\n",
    "print('Çapraz doğrulanmış ROC AUC : {:.4f}'.format(Cross_validated_ROC_AUC))"
   ]
  },
  {
   "cell_type": "code",
   "execution_count": 33,
   "id": "07ce3d33",
   "metadata": {},
   "outputs": [],
   "source": [
    "X = data.drop(['index','Heart_Disease'], axis=1)\n",
    "\n",
    "y = data['Heart_Disease']"
   ]
  },
  {
   "cell_type": "code",
   "execution_count": 34,
   "id": "e8f5f21c",
   "metadata": {},
   "outputs": [],
   "source": [
    "label_encoder = LabelEncoder()\n",
    "y_binary = label_encoder.fit_transform(y)"
   ]
  },
  {
   "cell_type": "code",
   "execution_count": 35,
   "id": "5d3c674d",
   "metadata": {},
   "outputs": [],
   "source": [
    "#Data setimizi test ve train olmak üzere 2'ye bölüyoruz\n",
    "X_train, X_test, y_train, y_test = train_test_split(X, y_binary, test_size=0.2, random_state=42)\n"
   ]
  },
  {
   "cell_type": "code",
   "execution_count": 36,
   "id": "8a66ace2",
   "metadata": {},
   "outputs": [],
   "source": [
    "from sklearn.preprocessing import StandardScaler\n",
    "sc_X = StandardScaler()\n",
    "X_train = sc_X.fit_transform(X_train)\n",
    "X_test = sc_X.transform(X_test)"
   ]
  },
  {
   "cell_type": "code",
   "execution_count": 37,
   "id": "87086e5d",
   "metadata": {},
   "outputs": [
    {
     "data": {
      "text/plain": [
       "array([ 4.05449749e-01,  5.11305041e-01, -1.28002261e+00, -1.66975758e+00,\n",
       "       -8.55329777e-01,  1.11336466e-01,  3.69878661e-01, -1.64148106e+00,\n",
       "       -3.58939070e-01, -1.22433062e+00, -6.56842366e-01, -2.51638384e-01,\n",
       "        7.07766969e-01,  5.38500616e-01,  3.69263213e-01, -9.20937630e-01,\n",
       "        1.55940130e-03, -6.35915069e-01,  9.93076209e-01, -6.35798083e-01,\n",
       "        1.26242801e+00, -5.17807420e-01,  1.79196758e-01, -1.03307216e+00,\n",
       "       -2.79929157e-01,  5.15009057e-01, -4.33208237e-01,  6.47650329e-01,\n",
       "       -1.29893085e+00, -1.04306197e+00, -1.33815908e+00, -9.80601525e-01,\n",
       "       -1.45210652e-02, -7.42641923e-01, -1.50887177e-01,  3.99793619e-01,\n",
       "        1.14553299e+00, -1.11330418e+00,  8.19626176e-01, -6.33375897e-02,\n",
       "       -1.46674851e+00, -9.88692846e-01, -9.78457744e-01, -4.58160251e-02,\n",
       "       -9.63441689e-01, -1.55513739e+00, -1.14892926e+00,  4.91680166e-01,\n",
       "        2.59463196e-01, -2.33343725e-02, -7.99226510e-01, -1.48626023e+00,\n",
       "       -8.21523647e-01,  7.47560324e-01])"
      ]
     },
     "execution_count": 37,
     "metadata": {},
     "output_type": "execute_result"
    }
   ],
   "source": [
    "\n",
    "svm_model = SVC(probability=True, random_state=42)\n",
    "svm_model.fit(X_train, y_train)\n",
    "\n",
    "y_pred_svm = svm_model.decision_function(X_test)\n",
    "y_pred_svm"
   ]
  },
  {
   "cell_type": "code",
   "execution_count": 38,
   "id": "c7e356f8",
   "metadata": {},
   "outputs": [],
   "source": [
    "# ROC eğrisini oluşturma\n",
    "fpr, tpr, thresholds = roc_curve(y_test, y_pred_svm)\n",
    "roc_auc = roc_auc_score(y_test, y_pred_svm)"
   ]
  },
  {
   "cell_type": "code",
   "execution_count": 39,
   "id": "5de9572a",
   "metadata": {},
   "outputs": [
    {
     "data": {
      "image/png": "[encoded data removed]",
      "text/plain": [
       "<Figure size 576x576 with 1 Axes>"
      ]
     },
     "metadata": {
      "needs_background": "light"
     },
     "output_type": "display_data"
    }
   ],
   "source": [
    "# ROC eğrisini çizme\n",
    "plt.figure(figsize=(8, 8))\n",
    "plt.plot(fpr, tpr, color='darkorange', lw=2, label=f'ROC curve (AUC = {roc_auc:.2f})')\n",
    "plt.plot([0, 1], [0, 1], color='navy', lw=2, linestyle='--')\n",
    "plt.xlabel('False Positive Rate')\n",
    "plt.ylabel('True Positive Rate')\n",
    "plt.title('SVM ROC Curve')\n",
    "plt.legend(loc='lower right')\n",
    "plt.show()"
   ]
  },
  {
   "cell_type": "code",
   "execution_count": 40,
   "id": "42677717",
   "metadata": {},
   "outputs": [],
   "source": [
    "from sklearn.linear_model import LogisticRegression\n",
    "model_logistic = LogisticRegression()\n",
    "model_logistic.fit(X_train, y_train)\n",
    "\n",
    "y_pred_logistic = model_logistic.decision_function(X_test)"
   ]
  },
  {
   "cell_type": "code",
   "execution_count": 41,
   "id": "3f6fe217",
   "metadata": {},
   "outputs": [
    {
     "data": {
      "text/plain": [
       "((216, 13), (54, 13))"
      ]
     },
     "execution_count": 41,
     "metadata": {},
     "output_type": "execute_result"
    }
   ],
   "source": [
    "\n",
    "X_train.shape, X_test.shape\n"
   ]
  },
  {
   "cell_type": "code",
   "execution_count": 42,
   "id": "5c21cee1",
   "metadata": {},
   "outputs": [],
   "source": [
    "X_train_df = pd.DataFrame(X_train, columns=X.columns)"
   ]
  },
  {
   "cell_type": "code",
   "execution_count": 43,
   "id": "71f0b93a",
   "metadata": {},
   "outputs": [],
   "source": [
    "\n",
    "from sklearn.preprocessing import StandardScaler\n",
    "\n",
    "scaler = StandardScaler()#veri özelliklerini ortalama değeri çıkararak ve birim varyansla ölçeklendirerek standartlaştırma\n",
    "\n",
    "X_train = scaler.fit_transform(X_train)# eğitim verilerinin dağılımını hesaplama\n",
    "\n",
    "X_test = scaler.transform(X_test)"
   ]
  },
  {
   "cell_type": "code",
   "execution_count": 45,
   "id": "c6a0b054",
   "metadata": {},
   "outputs": [
    {
     "name": "stdout",
     "output_type": "stream",
     "text": [
      "varsayılan hiperparametreler ile test verileri üzerinde doğruluk skoru 0.8889\n"
     ]
    }
   ],
   "source": [
    "#Destek vektör Makinesi(SVM)\n",
    "from sklearn.svm import SVC\n",
    "from sklearn.metrics import accuracy_score\n",
    "svc=SVC() \n",
    "svc.fit(X_train,y_train)\n",
    "y_pred=svc.predict(X_test)\n",
    "print('varsayılan hiperparametreler ile test verileri üzerinde doğruluk skoru {0:0.4f}'. format(accuracy_score(y_test, y_pred)))"
   ]
  },
  {
   "cell_type": "code",
   "execution_count": 46,
   "id": "87c7a6ff",
   "metadata": {},
   "outputs": [
    {
     "name": "stdout",
     "output_type": "stream",
     "text": [
      "lineer ve C=1.0 parametresi kullanarak test verileri üzerindeki doğruluk değeri: 0.8889\n"
     ]
    }
   ],
   "source": [
    "#\n",
    "linear_svc=SVC(kernel='linear', C=1.0) #düzenleştirme parametresi ve Lineer çekirdek\n",
    "linear_svc.fit(X_train,y_train)\n",
    "y_p_test=linear_svc.predict(X_test)\n",
    "print('lineer ve C=1.0 parametresi kullanarak test verileri üzerindeki doğruluk değeri: {0:0.4f}'. format(accuracy_score(y_test, y_p_test)))"
   ]
  },
  {
   "cell_type": "code",
   "execution_count": 47,
   "id": "6e050879",
   "metadata": {},
   "outputs": [
    {
     "data": {
      "text/plain": [
       "array([0, 1, 0, 1, 0, 0, 1, 1, 1, 1, 1, 0, 0, 0, 0, 0, 0, 0, 0, 0, 0, 0,\n",
       "       0, 1, 1, 0, 0, 1, 0, 1, 1, 1, 1, 0, 1, 0, 0, 1, 0, 0, 1, 0, 0, 0,\n",
       "       1, 1, 0, 0, 0, 1, 1, 0, 0, 0, 1, 0, 0, 0, 1, 1, 0, 0, 1, 0, 1, 0,\n",
       "       1, 0, 0, 0, 1, 1, 1, 0, 1, 1, 0, 0, 1, 0, 0, 0, 1, 1, 0, 0, 0, 0,\n",
       "       1, 1, 1, 0, 0, 1, 0, 1, 1, 0, 0, 0, 1, 0, 1, 0, 1, 0, 1, 0, 1, 0,\n",
       "       0, 0, 0, 0, 0, 0, 1, 1, 1, 0, 0, 1, 1, 1, 1, 0, 1, 0, 1, 1, 1, 0,\n",
       "       1, 0, 1, 1, 0, 0, 0, 1, 0, 0, 1, 1, 0, 1, 1, 1, 1, 1, 1, 1, 0, 1,\n",
       "       1, 1, 1, 0, 0, 1, 0, 0, 1, 0, 1, 1, 1, 1, 0, 0, 1, 0, 0, 0, 0, 1,\n",
       "       0, 0, 0, 0, 1, 1, 0, 0, 0, 1, 0, 0, 0, 0, 0, 0, 0, 1, 0, 1, 0, 0,\n",
       "       1, 1, 0, 1, 1, 0, 1, 0, 0, 1, 0, 1, 1, 1, 0, 0, 0, 0])"
      ]
     },
     "execution_count": 47,
     "metadata": {},
     "output_type": "execute_result"
    }
   ],
   "source": [
    "y_pred_train = linear_svc.predict(X_train)\n",
    "y_pred_train"
   ]
  },
  {
   "cell_type": "code",
   "execution_count": 48,
   "id": "cd4376f6",
   "metadata": {},
   "outputs": [
    {
     "name": "stdout",
     "output_type": "stream",
     "text": [
      "Eğitim verisi Doğruluk skoru: 0.8565\n"
     ]
    }
   ],
   "source": [
    "print('Eğitim verisi Doğruluk skoru: {0:0.4f}'. format(accuracy_score(y_train, y_pred_train)))"
   ]
  },
  {
   "cell_type": "code",
   "execution_count": 49,
   "id": "2b5eb66f",
   "metadata": {},
   "outputs": [
    {
     "name": "stdout",
     "output_type": "stream",
     "text": [
      "Eğitim Veri Kümesi Skoru: 0.8565\n",
      "Test Veri kümesi Skoru: 0.8889\n"
     ]
    }
   ],
   "source": [
    "print('Eğitim Veri Kümesi Skoru: {:.4f}'.format(linear_svc.score(X_train, y_train)))\n",
    "\n",
    "print('Test Veri kümesi Skoru: {:.4f}'.format(linear_svc.score(X_test, y_test)))"
   ]
  },
  {
   "cell_type": "code",
   "execution_count": 51,
   "id": "84f9028d",
   "metadata": {},
   "outputs": [
    {
     "name": "stdout",
     "output_type": "stream",
     "text": [
      "Null accuracy score: 0.5556\n"
     ]
    }
   ],
   "source": [
    "\n",
    "\n",
    "null_accuracy = (30/(30+24))\n",
    "\n",
    "print('Null accuracy score: {0:0.4f}'. format(null_accuracy))\n"
   ]
  },
  {
   "cell_type": "code",
   "execution_count": null,
   "id": "6d29284c",
   "metadata": {},
   "outputs": [],
   "source": []
  }
 ],
 "metadata": {
  "kernelspec": {
   "display_name": "Python 3 (ipykernel)",
   "language": "python",
   "name": "python3"
  },
  "language_info": {
   "codemirror_mode": {
    "name": "ipython",
    "version": 3
   },
   "file_extension": ".py",
   "mimetype": "text/x-python",
   "name": "python",
   "nbconvert_exporter": "python",
   "pygments_lexer": "ipython3",
   "version": "3.9.7"
  }
 },
 "nbformat": 4,
 "nbformat_minor": 5
}
